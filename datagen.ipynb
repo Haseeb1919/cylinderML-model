{
 "cells": [
  {
   "cell_type": "code",
   "execution_count": null,
   "metadata": {},
   "outputs": [],
   "source": [
    "import pandas as pd\n",
    "import numpy as np\n",
    "from sklearn.model_selection import train_test_split\n",
    "\n",
    "# Generate data\n",
    "num_samples = 50000\n",
    "radius = np.random.uniform(low=0, high=100, size=num_samples)\n",
    "height = np.random.uniform(low=0, high=100, size=num_samples)\n",
    "surface_area = 2 * np.pi * radius * (height + radius)\n",
    "\n",
    "data = {'radius': radius, 'height': height, 'surface_area': surface_area}\n",
    "df = pd.DataFrame(data)\n",
    "#complete dataset\n",
    "df.to_csv('complete_dataset.csv', index=False)\n",
    "\n",
    "\n",
    "# Split data into train and test\n",
    "train, test = train_test_split(df, test_size=0.2, random_state=42)\n",
    "train.to_csv('train.csv', index=False)\n",
    "test.to_csv('test.csv', index=False)\n",
    "\n",
    "\n",
    "\n"
   ]
  }
 ],
 "metadata": {
  "language_info": {
   "name": "python"
  },
  "orig_nbformat": 4
 },
 "nbformat": 4,
 "nbformat_minor": 2
}
