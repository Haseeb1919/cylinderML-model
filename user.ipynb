{
 "cells": [
  {
   "cell_type": "code",
   "execution_count": null,
   "metadata": {},
   "outputs": [],
   "source": [
    "import joblib\n",
    "def predict():\n",
    "    best_model = joblib.load('best_rf_model.joblib')\n",
    "\n",
    "    radius_input = float(input(\"Enter the radius: \"))\n",
    "    height_input = float(input(\"Enter the height: \"))\n",
    "    # Prepare data   \n",
    "    X_new = [[radius_input, height_input]]\n",
    "\n",
    "    # Predict\n",
    "    y_pred = best_model.predict(X_new)\n",
    "\n",
    "    return y_pred[0]\n",
    "\n",
    "predict()"
   ]
  }
 ],
 "metadata": {
  "language_info": {
   "name": "python"
  },
  "orig_nbformat": 4
 },
 "nbformat": 4,
 "nbformat_minor": 2
}
